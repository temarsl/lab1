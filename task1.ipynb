{
  "nbformat": 4,
  "nbformat_minor": 0,
  "metadata": {
    "colab": {
      "provenance": [],
      "authorship_tag": "ABX9TyOoukbEb7LRmW1dx0OQzLGT",
      "include_colab_link": true
    },
    "kernelspec": {
      "name": "python3",
      "display_name": "Python 3"
    },
    "language_info": {
      "name": "python"
    }
  },
  "cells": [
    {
      "cell_type": "markdown",
      "metadata": {
        "id": "view-in-github",
        "colab_type": "text"
      },
      "source": [
        "<a href=\"https://colab.research.google.com/github/temarsl/lab1/blob/main/task1.ipynb\" target=\"_parent\"><img src=\"https://colab.research.google.com/assets/colab-badge.svg\" alt=\"Open In Colab\"/></a>"
      ]
    },
    {
      "cell_type": "code",
      "execution_count": 1,
      "metadata": {
        "colab": {
          "base_uri": "https://localhost:8080/"
        },
        "id": "MzDd21jdSzzW",
        "outputId": "b8afa953-15cd-43e0-8356-4dd2a54c42ab"
      },
      "outputs": [
        {
          "output_type": "execute_result",
          "data": {
            "text/plain": [
              "0.6666666666666666"
            ]
          },
          "metadata": {},
          "execution_count": 1
        }
      ],
      "source": [
        "import math\n",
        "\n",
        "def task1(x):\n",
        "    d = x * x - 8 * x + 12\n",
        "    if d == 0:\n",
        "        return None\n",
        "    return (x * x - 7 * x + 10) / d\n",
        "\n",
        "task1(3)"
      ]
    },
    {
      "cell_type": "code",
      "source": [
        "def task2(x):\n",
        "    d = 1 - math.cos(2 * x) + math.sin(2 * x)\n",
        "    if d == 0:\n",
        "        return None\n",
        "    return (1 + math.cos(2 * x) + math.sin(2 * x)) / d\n",
        "\n",
        "task2(1)"
      ],
      "metadata": {
        "colab": {
          "base_uri": "https://localhost:8080/"
        },
        "id": "MEUHVOEaS9_n",
        "outputId": "42ff3cb9-ca44-4e19-cbf6-39a7a0ae4bc5"
      },
      "execution_count": 2,
      "outputs": [
        {
          "output_type": "execute_result",
          "data": {
            "text/plain": [
              "0.6420926159343308"
            ]
          },
          "metadata": {},
          "execution_count": 2
        }
      ]
    }
  ]
}